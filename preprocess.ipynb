{
 "cells": [
  {
   "cell_type": "code",
   "execution_count": 2,
   "metadata": {},
   "outputs": [
    {
     "name": "stderr",
     "output_type": "stream",
     "text": [
      "/Users/lorenzoflores/opt/anaconda3/envs/annotate/lib/python3.10/site-packages/tqdm/auto.py:21: TqdmWarning: IProgress not found. Please update jupyter and ipywidgets. See https://ipywidgets.readthedocs.io/en/stable/user_install.html\n",
      "  from .autonotebook import tqdm as notebook_tqdm\n"
     ]
    }
   ],
   "source": [
    "import pandas as pd\n",
    "from datasets import load_dataset\n",
    "\n",
    "ds = load_dataset(\"stanfordnlp/snli\")\n",
    "df = ds[\"train\"].to_pandas()\n",
    "df = df.sample(frac=1)\n",
    "df[\"report\"] = \"Premise: \" + df[\"premise\"] + \"\\n\\n\" + df[\"hypothesis\"]\n",
    "\n",
    "for i in range(1, 7):\n",
    "    raw_df = df.iloc[i * 10 : (i + 1) * 10]\n",
    "    raw_df[\"id\"] = list(range(1, 11))\n",
    "    raw_df[\"label\"] = \"\"\n",
    "    raw_df[[\"id\", \"report\", \"label\"]].to_csv(f\"raw/qa{i}.csv\", index=False)\n",
    "\n",
    "    reference_df = raw_df.drop(\"label\", axis=1).merge(\n",
    "        df[[\"report\", \"label\"]], on=\"report\", how=\"left\"\n",
    "    )\n",
    "    reference_df.to_csv(f\"reference/qa{i}.csv\", index=False)"
   ]
  }
 ],
 "metadata": {
  "kernelspec": {
   "display_name": "Python 3",
   "language": "python",
   "name": "python3"
  },
  "language_info": {
   "codemirror_mode": {
    "name": "ipython",
    "version": 3
   },
   "file_extension": ".py",
   "mimetype": "text/x-python",
   "name": "python",
   "nbconvert_exporter": "python",
   "pygments_lexer": "ipython3",
   "version": "3.10.15"
  }
 },
 "nbformat": 4,
 "nbformat_minor": 2
}
